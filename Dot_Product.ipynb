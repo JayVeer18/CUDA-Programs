{
  "nbformat": 4,
  "nbformat_minor": 0,
  "metadata": {
    "colab": {
      "name": "Copy of Untitled0.ipynb",
      "provenance": [],
      "include_colab_link": true
    },
    "kernelspec": {
      "name": "python3",
      "display_name": "Python 3"
    },
    "accelerator": "GPU"
  },
  "cells": [
    {
      "cell_type": "markdown",
      "metadata": {
        "id": "view-in-github",
        "colab_type": "text"
      },
      "source": [
        "<a href=\"https://colab.research.google.com/github/JayVeer18/CUDA-Programs/blob/main/Dot_Product.ipynb\" target=\"_parent\"><img src=\"https://colab.research.google.com/assets/colab-badge.svg\" alt=\"Open In Colab\"/></a>"
      ]
    },
    {
      "cell_type": "markdown",
      "metadata": {
        "id": "0VUVyQ9SyxL_"
      },
      "source": [
        "### Step:1"
      ]
    },
    {
      "cell_type": "code",
      "metadata": {
        "id": "SrsaJ4sJvIm4"
      },
      "source": [
        "!apt-get --purge remove cuda nvidia* libnvidia-*\n",
        "!dpkg -l | grep cuda- | awk '{print $2}' | xargs -n1 dpkg --purge\n",
        "!apt-get remove cuda-*\n",
        "!apt autoremove\n",
        "!apt-get update"
      ],
      "execution_count": null,
      "outputs": []
    },
    {
      "cell_type": "markdown",
      "metadata": {
        "id": "3L22-5Cdypas"
      },
      "source": [
        "### Step:2"
      ]
    },
    {
      "cell_type": "code",
      "metadata": {
        "id": "720SQlYqysuL"
      },
      "source": [
        "\n",
        "!wget https://developer.nvidia.com/compute/cuda/9.2/Prod/local_installers/cuda-repo-ubuntu1604-9-2-local_9.2.88-1_amd64 -O cuda-repo-ubuntu1604-9-2-local_9.2.88-1_amd64.deb\n",
        "!dpkg -i cuda-repo-ubuntu1604-9-2-local_9.2.88-1_amd64.deb\n",
        "!apt-key add /var/cuda-repo-9-2-local/7fa2af80.pub\n",
        "!apt-get update\n",
        "!apt-get install cuda-9.2"
      ],
      "execution_count": null,
      "outputs": []
    },
    {
      "cell_type": "markdown",
      "metadata": {
        "id": "m0hrf4GLy9jm"
      },
      "source": [
        "### Step:3"
      ]
    },
    {
      "cell_type": "code",
      "metadata": {
        "id": "JiqO1_60yuHL"
      },
      "source": [
        "!nvcc --version"
      ],
      "execution_count": null,
      "outputs": []
    },
    {
      "cell_type": "markdown",
      "metadata": {
        "id": "lL1xSN_WzG-Z"
      },
      "source": [
        "### Step-4"
      ]
    },
    {
      "cell_type": "code",
      "metadata": {
        "id": "TkYgdns9zJ6P"
      },
      "source": [
        "pip install git+git://github.com/andreinechaev/nvcc4jupyter.git"
      ],
      "execution_count": null,
      "outputs": []
    },
    {
      "cell_type": "markdown",
      "metadata": {
        "id": "9pFUhdY-0oxG"
      },
      "source": [
        "### Step-5"
      ]
    },
    {
      "cell_type": "code",
      "metadata": {
        "id": "Zxl8VyIJ0nJI",
        "colab": {
          "base_uri": "https://localhost:8080/"
        },
        "outputId": "6062cdff-d49c-4980-ece6-c3b7335a3cbd"
      },
      "source": [
        "%load_ext nvcc_plugin"
      ],
      "execution_count": 5,
      "outputs": [
        {
          "output_type": "stream",
          "text": [
            "created output directory at /content/src\n",
            "Out bin /content/result.out\n"
          ],
          "name": "stdout"
        }
      ]
    },
    {
      "cell_type": "markdown",
      "metadata": {
        "id": "O84kO0ABJ6SO"
      },
      "source": [
        "### Dot Product using Shared Memory"
      ]
    },
    {
      "cell_type": "code",
      "metadata": {
        "id": "DOlpluw34Bhh",
        "colab": {
          "base_uri": "https://localhost:8080/"
        },
        "outputId": "a6d02b11-5259-4fe5-dd62-248e0b29a2b0"
      },
      "source": [
        "%%cu\n",
        "#include <stdio.h>\n",
        "#include <stdlib.h>\n",
        "#define imin(a,b) (a<b?a:b)\n",
        "\n",
        "const int N = 33*1024;\n",
        "const int threadsperblock = 256;\n",
        "const int blockspergrid = imin(32, (N+threadsperblock-1)/threadsperblock);\n",
        "__global__ void dot(int *a, int *b, int *c){\n",
        "    __shared__ int cache[threadsperblock];\n",
        "    int tid = threadIdx.x + blockIdx.x * blockDim.x;\n",
        "    int cacheindex = threadIdx.x;\n",
        "    int temp = 0;\n",
        "    while(tid < N){\n",
        "        temp += a[tid] * b[tid];\n",
        "        tid += blockDim.x * gridDim.x; \n",
        "    } \n",
        "    cache[cacheindex] = temp;\n",
        "    __syncthreads();\n",
        "    int i = blockDim.x/2;\n",
        "    while(i != 0){\n",
        "        if(cacheindex < i){\n",
        "            cache[cacheindex] += cache[cacheindex + i];\n",
        "            __syncthreads();\n",
        "        }\n",
        "        i /= 2;\n",
        "    }\n",
        "    if(cacheindex == 0){\n",
        "        c[blockIdx.x] = cache[0];\n",
        "    }\n",
        "}\n",
        "int main()\n",
        "{\n",
        "  int *a,*b,*partial_c;\n",
        "  int *da, *db, *dc;\n",
        "  int size = N*sizeof(int);\n",
        "  a = new int[N];\n",
        "  b = new int[N];\n",
        "  //partial_c = (int*)malloc(blockspergrid*sizeof(int));\n",
        "  partial_c = new int[blockspergrid];\n",
        " \n",
        "  cudaMalloc((void **)&da, size);\n",
        "  cudaMalloc((void **)&db, size);\n",
        "  cudaMalloc((void **)&dc, blockspergrid*sizeof(int));\n",
        " int res=0;\n",
        " for(int i=0;i<N;i++){\n",
        "      a[i] = i;\n",
        "      b[i] = i * 2;\n",
        "      res += (a[i] * b[i]);\n",
        "  }\n",
        " \n",
        "  cudaMemcpy(da, a, size, cudaMemcpyHostToDevice);\n",
        "  cudaMemcpy(db, b, size, cudaMemcpyHostToDevice);\n",
        "  \n",
        "  dot<<<blockspergrid,threadsperblock>>>(da, db, dc);\n",
        "  \n",
        "  cudaMemcpy(partial_c, dc, blockspergrid*sizeof(int), cudaMemcpyDeviceToHost);\n",
        "  \n",
        "  int c=0;\n",
        "  for(int i=0;i<blockspergrid;i++){\n",
        "      c+=partial_c[i];\n",
        "  }\n",
        "  printf(\"Dot Product from GPU : %d \\n Dot Product from CPU : %d\",c,res);\n",
        "\n",
        "  cudaFree(da);\n",
        "  cudaFree(db);\n",
        "  cudaFree(dc);\n",
        "  return 0;\n",
        "}"
      ],
      "execution_count": 10,
      "outputs": [
        {
          "output_type": "stream",
          "text": [
            "Dot Product from GPU : 1005595648 \n",
            " Dot Product from CPU : 1005595648\n"
          ],
          "name": "stdout"
        }
      ]
    },
    {
      "cell_type": "markdown",
      "metadata": {
        "id": "Y_9nexArJ1UP"
      },
      "source": [
        "### Dot Product using Atomics\r\n"
      ]
    },
    {
      "cell_type": "code",
      "metadata": {
        "colab": {
          "base_uri": "https://localhost:8080/"
        },
        "id": "fROPAxc3IBNN",
        "outputId": "c6176cbb-9085-42af-dd6a-816b5eb511e1"
      },
      "source": [
        "%%cu\r\n",
        "#include <stdio.h>\r\n",
        "#include <stdlib.h>\r\n",
        "\r\n",
        "const int N = 500;\r\n",
        "__global__ void dotProduct(int *a, int *b, int *c)\r\n",
        "{\r\n",
        "  int i = threadIdx.x;\r\n",
        "  atomicAdd(c, a[i]*b[i]);\r\n",
        " \r\n",
        "}\r\n",
        "int main()\r\n",
        "{\r\n",
        "  int *a,*b;\r\n",
        "  int *da, *db, *dc;\r\n",
        "  int size = N*sizeof(int);\r\n",
        "  a = new int[N];\r\n",
        "  b = new int[N];\r\n",
        "  int res=0,c=0;\r\n",
        "  for(int i=0;i<N;i++){\r\n",
        "        a[i] = i;\r\n",
        "        b[i] = i * 2;\r\n",
        "        res += (a[i] * b[i]);\r\n",
        "    }\r\n",
        "  cudaMalloc((void **)&da, size);\r\n",
        "  cudaMalloc((void **)&db, size);\r\n",
        "  cudaMalloc((void **)&dc, sizeof(int));\r\n",
        " \r\n",
        "  cudaMemcpy(da, a, size, cudaMemcpyHostToDevice);\r\n",
        "  cudaMemcpy(db, b, size, cudaMemcpyHostToDevice);\r\n",
        "  cudaMemcpy(dc, &c, sizeof(int), cudaMemcpyHostToDevice);\r\n",
        "\r\n",
        "  dotProduct<<<1,N>>>(da, db, dc);\r\n",
        " \r\n",
        "  cudaMemcpy(&c, dc, sizeof(int), cudaMemcpyDeviceToHost);\r\n",
        "  printf(\"Dot Product from GPU : %d \\n Dot Product from CPU : %d\",c,res);\r\n",
        "\r\n",
        "  cudaFree(da);\r\n",
        "  cudaFree(db);\r\n",
        "  cudaFree(dc);\r\n",
        "  return 0;\r\n",
        "}"
      ],
      "execution_count": 19,
      "outputs": [
        {
          "output_type": "stream",
          "text": [
            "Dot Product from GPU : 83083500 \n",
            " Dot Product from CPU : 83083500\n"
          ],
          "name": "stdout"
        }
      ]
    },
    {
      "cell_type": "code",
      "metadata": {
        "id": "S4o26KjSK5Ml"
      },
      "source": [
        ""
      ],
      "execution_count": null,
      "outputs": []
    }
  ]
}