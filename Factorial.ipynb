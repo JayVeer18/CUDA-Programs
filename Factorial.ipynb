{
  "nbformat": 4,
  "nbformat_minor": 0,
  "metadata": {
    "colab": {
      "name": "Untitled0.ipynb",
      "provenance": [],
      "include_colab_link": true
    },
    "kernelspec": {
      "name": "python3",
      "display_name": "Python 3"
    },
    "accelerator": "GPU"
  },
  "cells": [
    {
      "cell_type": "markdown",
      "metadata": {
        "id": "view-in-github",
        "colab_type": "text"
      },
      "source": [
        "<a href=\"https://colab.research.google.com/github/JayVeer18/CUDA-Programs/blob/main/Factorial.ipynb\" target=\"_parent\"><img src=\"https://colab.research.google.com/assets/colab-badge.svg\" alt=\"Open In Colab\"/></a>"
      ]
    },
    {
      "cell_type": "markdown",
      "metadata": {
        "id": "0VUVyQ9SyxL_"
      },
      "source": [
        "### Step:1"
      ]
    },
    {
      "cell_type": "code",
      "metadata": {
        "id": "SrsaJ4sJvIm4"
      },
      "source": [
        "!apt-get --purge remove cuda nvidia* libnvidia-*\n",
        "!dpkg -l | grep cuda- | awk '{print $2}' | xargs -n1 dpkg --purge\n",
        "!apt-get remove cuda-*\n",
        "!apt autoremove\n",
        "!apt-get update"
      ],
      "execution_count": null,
      "outputs": []
    },
    {
      "cell_type": "markdown",
      "metadata": {
        "id": "3L22-5Cdypas"
      },
      "source": [
        "### Step:2"
      ]
    },
    {
      "cell_type": "code",
      "metadata": {
        "id": "720SQlYqysuL"
      },
      "source": [
        "\n",
        "!wget https://developer.nvidia.com/compute/cuda/9.2/Prod/local_installers/cuda-repo-ubuntu1604-9-2-local_9.2.88-1_amd64 -O cuda-repo-ubuntu1604-9-2-local_9.2.88-1_amd64.deb\n",
        "!dpkg -i cuda-repo-ubuntu1604-9-2-local_9.2.88-1_amd64.deb\n",
        "!apt-key add /var/cuda-repo-9-2-local/7fa2af80.pub\n",
        "!apt-get update\n",
        "!apt-get install cuda-9.2"
      ],
      "execution_count": null,
      "outputs": []
    },
    {
      "cell_type": "markdown",
      "metadata": {
        "id": "m0hrf4GLy9jm"
      },
      "source": [
        "### Step:3"
      ]
    },
    {
      "cell_type": "code",
      "metadata": {
        "id": "JiqO1_60yuHL",
        "colab": {
          "base_uri": "https://localhost:8080/"
        },
        "outputId": "8bab5783-1056-40d0-d7a4-9fa9f7fcd3b1"
      },
      "source": [
        "!nvcc --version"
      ],
      "execution_count": 3,
      "outputs": [
        {
          "output_type": "stream",
          "text": [
            "nvcc: NVIDIA (R) Cuda compiler driver\n",
            "Copyright (c) 2005-2018 NVIDIA Corporation\n",
            "Built on Wed_Apr_11_23:16:29_CDT_2018\n",
            "Cuda compilation tools, release 9.2, V9.2.88\n"
          ],
          "name": "stdout"
        }
      ]
    },
    {
      "cell_type": "markdown",
      "metadata": {
        "id": "lL1xSN_WzG-Z"
      },
      "source": [
        "### Step-4"
      ]
    },
    {
      "cell_type": "code",
      "metadata": {
        "id": "TkYgdns9zJ6P"
      },
      "source": [
        "pip install git+git://github.com/andreinechaev/nvcc4jupyter.git"
      ],
      "execution_count": null,
      "outputs": []
    },
    {
      "cell_type": "markdown",
      "metadata": {
        "id": "9pFUhdY-0oxG"
      },
      "source": [
        "### Step-5"
      ]
    },
    {
      "cell_type": "code",
      "metadata": {
        "id": "Zxl8VyIJ0nJI",
        "colab": {
          "base_uri": "https://localhost:8080/"
        },
        "outputId": "90442640-f0d0-4604-84fb-85b70ed78da2"
      },
      "source": [
        "%load_ext nvcc_plugin"
      ],
      "execution_count": 5,
      "outputs": [
        {
          "output_type": "stream",
          "text": [
            "created output directory at /content/src\n",
            "Out bin /content/result.out\n"
          ],
          "name": "stdout"
        }
      ]
    },
    {
      "cell_type": "markdown",
      "metadata": {
        "id": "IqsbDHl0Ut98"
      },
      "source": [
        "### Factorial using Parallel Reduction "
      ]
    },
    {
      "cell_type": "code",
      "metadata": {
        "id": "9vgVDh2DZCD-",
        "outputId": "37e7624c-219b-479d-99ad-22669348eade",
        "colab": {
          "base_uri": "https://localhost:8080/"
        }
      },
      "source": [
        "%%cu\r\n",
        "#include <iostream>\r\n",
        "#include <math.h>\r\n",
        "#include <stdio.h>\r\n",
        "using namespace std;\r\n",
        "\r\n",
        "__global__ void factorial(int* input)\r\n",
        "{\r\n",
        "\tconst int tid = threadIdx.x;\r\n",
        "\r\n",
        "\tauto step_size = 1;\r\n",
        "\tint number_of_threads = blockDim.x;\r\n",
        "\r\n",
        "\twhile (number_of_threads > 0)\r\n",
        "\t{\r\n",
        "\t\tif (tid < number_of_threads) // still alive?\r\n",
        "\t\t{\r\n",
        "\t\t\tconst auto fst = tid * step_size * 2;\r\n",
        "\t\t\tconst auto snd = fst + step_size;\r\n",
        "\t\t\tinput[fst] *= input[snd];\r\n",
        "\t\t}\r\n",
        "\r\n",
        "\t\tstep_size <<= 1; \r\n",
        "\t\tnumber_of_threads >>= 1;\r\n",
        "\t}\r\n",
        "}\r\n",
        "\r\n",
        "int nextPowerOf2(int n) \r\n",
        "{ \r\n",
        "    n--; \r\n",
        "    n |= n >> 1; \r\n",
        "    n |= n >> 2; \r\n",
        "    n |= n >> 4; \r\n",
        "    n |= n >> 8; \r\n",
        "    n |= n >> 16; \r\n",
        "    n++; \r\n",
        "    return n; \r\n",
        "}\r\n",
        "\r\n",
        "int main()\r\n",
        "{\r\n",
        "\tint n =12;\r\n",
        "  scanf(\"%d\",&n);\r\n",
        "  int count = nextPowerOf2(n);\r\n",
        "\tconst int size = count * sizeof(int);\r\n",
        "\tint h[count];\r\n",
        "  for(int i=0;i<n;i++){\r\n",
        "      h[i] = i+1;\r\n",
        "  }\r\n",
        " for(int i=n;i<count;i++){\r\n",
        "      h[i] = 1;\r\n",
        "  }\r\n",
        "\r\n",
        "\tint* d; \r\n",
        "\tcudaMalloc(&d, size);\r\n",
        "\tcudaMemcpy(d, h, size, cudaMemcpyHostToDevice);\r\n",
        "\r\n",
        "\tfactorial <<<1, count / 2 >>>(d);\r\n",
        "\r\n",
        "\tint result;\r\n",
        "\tcudaMemcpy(&result, d, sizeof(int), cudaMemcpyDeviceToHost);\r\n",
        "\r\n",
        "\tcout << \"factorial is \" << result << endl;\r\n",
        "\r\n",
        "\tcudaFree(d);\r\n",
        "\treturn 0;\r\n",
        "}"
      ],
      "execution_count": 33,
      "outputs": [
        {
          "output_type": "stream",
          "text": [
            "factorial is 479001600\n",
            "\n"
          ],
          "name": "stdout"
        }
      ]
    }
  ]
}