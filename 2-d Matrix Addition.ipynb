{
  "nbformat": 4,
  "nbformat_minor": 0,
  "metadata": {
    "colab": {
      "name": "Untitled0.ipynb",
      "provenance": [],
      "include_colab_link": true
    },
    "kernelspec": {
      "name": "python3",
      "display_name": "Python 3"
    },
    "accelerator": "GPU"
  },
  "cells": [
    {
      "cell_type": "markdown",
      "metadata": {
        "id": "view-in-github",
        "colab_type": "text"
      },
      "source": [
        "<a href=\"https://colab.research.google.com/github/JayVeer18/CUDA-Programs/blob/main/2-d%20Matrix%20Addition.ipynb\" target=\"_parent\"><img src=\"https://colab.research.google.com/assets/colab-badge.svg\" alt=\"Open In Colab\"/></a>"
      ]
    },
    {
      "cell_type": "markdown",
      "metadata": {
        "id": "0VUVyQ9SyxL_"
      },
      "source": [
        "### Step:1"
      ]
    },
    {
      "cell_type": "code",
      "metadata": {
        "id": "SrsaJ4sJvIm4"
      },
      "source": [
        "!apt-get --purge remove cuda nvidia* libnvidia-*\n",
        "!dpkg -l | grep cuda- | awk '{print $2}' | xargs -n1 dpkg --purge\n",
        "!apt-get remove cuda-*\n",
        "!apt autoremove\n",
        "!apt-get update"
      ],
      "execution_count": null,
      "outputs": []
    },
    {
      "cell_type": "markdown",
      "metadata": {
        "id": "3L22-5Cdypas"
      },
      "source": [
        "### Step:2"
      ]
    },
    {
      "cell_type": "code",
      "metadata": {
        "id": "720SQlYqysuL"
      },
      "source": [
        "\n",
        "!wget https://developer.nvidia.com/compute/cuda/9.2/Prod/local_installers/cuda-repo-ubuntu1604-9-2-local_9.2.88-1_amd64 -O cuda-repo-ubuntu1604-9-2-local_9.2.88-1_amd64.deb\n",
        "!dpkg -i cuda-repo-ubuntu1604-9-2-local_9.2.88-1_amd64.deb\n",
        "!apt-key add /var/cuda-repo-9-2-local/7fa2af80.pub\n",
        "!apt-get update\n",
        "!apt-get install cuda-9.2"
      ],
      "execution_count": null,
      "outputs": []
    },
    {
      "cell_type": "markdown",
      "metadata": {
        "id": "m0hrf4GLy9jm"
      },
      "source": [
        "### Step:3"
      ]
    },
    {
      "cell_type": "code",
      "metadata": {
        "id": "JiqO1_60yuHL"
      },
      "source": [
        "!nvcc --version"
      ],
      "execution_count": null,
      "outputs": []
    },
    {
      "cell_type": "markdown",
      "metadata": {
        "id": "lL1xSN_WzG-Z"
      },
      "source": [
        "### Step-4"
      ]
    },
    {
      "cell_type": "code",
      "metadata": {
        "id": "TkYgdns9zJ6P"
      },
      "source": [
        "pip install git+git://github.com/andreinechaev/nvcc4jupyter.git"
      ],
      "execution_count": null,
      "outputs": []
    },
    {
      "cell_type": "markdown",
      "metadata": {
        "id": "9pFUhdY-0oxG"
      },
      "source": [
        "### Step-5"
      ]
    },
    {
      "cell_type": "code",
      "metadata": {
        "id": "Zxl8VyIJ0nJI"
      },
      "source": [
        "%load_ext nvcc_plugin"
      ],
      "execution_count": null,
      "outputs": []
    },
    {
      "cell_type": "markdown",
      "metadata": {
        "id": "tOJ60-gEkWlm"
      },
      "source": [
        "### 2-d Matrix Addition "
      ]
    },
    {
      "cell_type": "code",
      "metadata": {
        "colab": {
          "base_uri": "https://localhost:8080/"
        },
        "id": "LWxsm5PRjZQ_",
        "outputId": "a5cf9497-5504-41d0-d644-f7a35645817d"
      },
      "source": [
        "%%cu\r\n",
        "#include <stdlib.h>\r\n",
        "#include <stdio.h>\r\n",
        "#include<cuda.h>\r\n",
        "#define N 2\r\n",
        "\r\n",
        "__global__ void MatAdd(int A[][N], int B[][N], int C[][N]){\r\n",
        "           int i = threadIdx.x;\r\n",
        "           int j = threadIdx.y;\r\n",
        "\r\n",
        "           C[i][j] = A[i][j] + B[i][j];\r\n",
        "       }\r\n",
        "\r\n",
        "\r\n",
        "int main(){\r\n",
        "\r\n",
        "int A[N][N] = {{1,2},{3,4}};\r\n",
        "int B[N][N] = {{5,6},{7,8}};\r\n",
        "int C[N][N] = {{0,0},{0,0}};    \r\n",
        "\r\n",
        "int (*pA)[N], (*pB)[N], (*pC)[N];\r\n",
        "\r\n",
        "cudaMalloc((void**)&pA, (N*N)*sizeof(int));\r\n",
        "cudaMalloc((void**)&pB, (N*N)*sizeof(int));\r\n",
        "cudaMalloc((void**)&pC, (N*N)*sizeof(int));\r\n",
        "cudaMemcpy(pA, A, (N*N)*sizeof(int), cudaMemcpyHostToDevice);\r\n",
        "cudaMemcpy(pB, B, (N*N)*sizeof(int), cudaMemcpyHostToDevice);\r\n",
        "cudaMemcpy(pC, C, (N*N)*sizeof(int), cudaMemcpyHostToDevice);\r\n",
        "\r\n",
        "int numBlocks = 1;\r\n",
        "dim3 threadsPerBlock(N,N);\r\n",
        "MatAdd<<<numBlocks,threadsPerBlock>>>(pA,pB,pC);\r\n",
        "\r\n",
        "cudaMemcpy(C, pC, (N*N)*sizeof(int), cudaMemcpyDeviceToHost);\r\n",
        "\r\n",
        "int i, j; printf(\"C = \\n\");\r\n",
        "for(i=0;i<N;i++){\r\n",
        "    for(j=0;j<N;j++){\r\n",
        "        printf(\"%d \", C[i][j]);\r\n",
        "    }\r\n",
        "    printf(\"\\n\");\r\n",
        "}\r\n",
        "\r\n",
        "cudaFree(pA); \r\n",
        "cudaFree(pB); \r\n",
        "cudaFree(pC);\r\n",
        "\r\n",
        "printf(\"\\n\");\r\n",
        "\r\n",
        "return 0;\r\n",
        "}"
      ],
      "execution_count": 18,
      "outputs": [
        {
          "output_type": "stream",
          "text": [
            "C = \n",
            "6 8 \n",
            "10 12 \n",
            "\n",
            "\n"
          ],
          "name": "stdout"
        }
      ]
    }
  ]
}